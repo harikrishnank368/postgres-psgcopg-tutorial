{
 "cells": [
  {
   "cell_type": "code",
   "execution_count": 27,
   "metadata": {},
   "outputs": [],
   "source": [
    "import psycopg2"
   ]
  },
  {
   "cell_type": "code",
   "execution_count": 28,
   "metadata": {},
   "outputs": [],
   "source": [
    "import pandas as pd"
   ]
  },
  {
   "cell_type": "code",
   "execution_count": 29,
   "metadata": {},
   "outputs": [],
   "source": [
    "conn = psycopg2.connect(host= 'localhost', dbname='test', password='postgres', user='postgres')\n"
   ]
  },
  {
   "cell_type": "code",
   "execution_count": 30,
   "metadata": {},
   "outputs": [],
   "source": [
    "cur = conn.cursor()"
   ]
  },
  {
   "cell_type": "code",
   "execution_count": 31,
   "metadata": {},
   "outputs": [],
   "source": [
    "sql = \"\"\"SELECT employee.empid, employee.name, employee.joindate ,department.deptname,department.depthead\n",
    "FROM employee\n",
    "INNER JOIN department\n",
    "ON employee.deptid = department.deptid\"\"\""
   ]
  },
  {
   "cell_type": "code",
   "execution_count": 32,
   "metadata": {},
   "outputs": [
    {
     "name": "stderr",
     "output_type": "stream",
     "text": [
      "/tmp/ipykernel_6484/2900786107.py:1: UserWarning: pandas only supports SQLAlchemy connectable (engine/connection) or database string URI or sqlite3 DBAPI2 connection. Other DBAPI2 objects are not tested. Please consider using SQLAlchemy.\n",
      "  dat = pd.read_sql_query(sql, conn)\n"
     ]
    }
   ],
   "source": [
    "dat = pd.read_sql_query(sql, conn)"
   ]
  },
  {
   "cell_type": "code",
   "execution_count": null,
   "metadata": {},
   "outputs": [],
   "source": []
  },
  {
   "cell_type": "code",
   "execution_count": 33,
   "metadata": {},
   "outputs": [
    {
     "name": "stdout",
     "output_type": "stream",
     "text": [
      "   empid         name    joindate deptname        depthead\n",
      "0      1     John Doe  2023-01-10       HR      John Smith\n",
      "1      2   Jane Smith  2023-02-15  Finance    Mary Johnson\n",
      "2      3  Bob Johnson  2023-03-20       HR      John Smith\n",
      "3      4  Sara Wilson  2023-04-25       IT  David Williams\n",
      "4      5   Mike Brown  2023-05-30  Finance    Mary Johnson\n"
     ]
    }
   ],
   "source": [
    "df= pd.DataFrame(dat)\n",
    "print(df)"
   ]
  },
  {
   "cell_type": "code",
   "execution_count": 39,
   "metadata": {},
   "outputs": [],
   "source": [
    "df = df.astype({'joindate':'string','name':'string', 'deptname':'string', 'depthead':'string' })"
   ]
  },
  {
   "cell_type": "code",
   "execution_count": 40,
   "metadata": {},
   "outputs": [
    {
     "name": "stdout",
     "output_type": "stream",
     "text": [
      "<class 'pandas.core.frame.DataFrame'>\n",
      "RangeIndex: 5 entries, 0 to 4\n",
      "Data columns (total 5 columns):\n",
      " #   Column    Non-Null Count  Dtype \n",
      "---  ------    --------------  ----- \n",
      " 0   empid     5 non-null      int64 \n",
      " 1   name      5 non-null      string\n",
      " 2   joindate  5 non-null      string\n",
      " 3   deptname  5 non-null      string\n",
      " 4   depthead  5 non-null      string\n",
      "dtypes: int64(1), string(4)\n",
      "memory usage: 328.0 bytes\n"
     ]
    }
   ],
   "source": [
    "df.info()"
   ]
  },
  {
   "cell_type": "code",
   "execution_count": 46,
   "metadata": {},
   "outputs": [],
   "source": [
    "json_format = df.to_json(orient = 'records')"
   ]
  },
  {
   "cell_type": "code",
   "execution_count": 47,
   "metadata": {},
   "outputs": [
    {
     "data": {
      "text/plain": [
       "'[{\"empid\":1,\"name\":\"John Doe\",\"joindate\":\"2023-01-10\",\"deptname\":\"HR\",\"depthead\":\"John Smith\"},{\"empid\":2,\"name\":\"Jane Smith\",\"joindate\":\"2023-02-15\",\"deptname\":\"Finance\",\"depthead\":\"Mary Johnson\"},{\"empid\":3,\"name\":\"Bob Johnson\",\"joindate\":\"2023-03-20\",\"deptname\":\"HR\",\"depthead\":\"John Smith\"},{\"empid\":4,\"name\":\"Sara Wilson\",\"joindate\":\"2023-04-25\",\"deptname\":\"IT\",\"depthead\":\"David Williams\"},{\"empid\":5,\"name\":\"Mike Brown\",\"joindate\":\"2023-05-30\",\"deptname\":\"Finance\",\"depthead\":\"Mary Johnson\"}]'"
      ]
     },
     "execution_count": 47,
     "metadata": {},
     "output_type": "execute_result"
    }
   ],
   "source": [
    "json_format"
   ]
  },
  {
   "cell_type": "code",
   "execution_count": null,
   "metadata": {},
   "outputs": [],
   "source": []
  }
 ],
 "metadata": {
  "kernelspec": {
   "display_name": "Python 3 (ipykernel)",
   "language": "python",
   "name": "python3"
  },
  "language_info": {
   "codemirror_mode": {
    "name": "ipython",
    "version": 3
   },
   "file_extension": ".py",
   "mimetype": "text/x-python",
   "name": "python",
   "nbconvert_exporter": "python",
   "pygments_lexer": "ipython3",
   "version": "3.8.10"
  }
 },
 "nbformat": 4,
 "nbformat_minor": 4
}
